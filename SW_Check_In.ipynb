{
 "cells": [
  {
   "cell_type": "code",
   "execution_count": null,
   "metadata": {
    "collapsed": true
   },
   "outputs": [],
   "source": [
    "# Script takes in credentials and flight info to check you in and email you your boarding pass\n",
    "# Credit https://github.com/daveharmon for idea and code\n",
    "from selenium import webdriver\n",
    "from pyvirtualdisplay import Display\n",
    "import arrow\n",
    "import sys\n",
    "from time import sleep\n",
    "from bs4 import BeautifulSoup"
   ]
  },
  {
   "cell_type": "code",
   "execution_count": null,
   "metadata": {
    "collapsed": true
   },
   "outputs": [],
   "source": [
    "# Initializes selenium driver. Breaks after 10 tries to avoid infinite loop\n",
    "def initializeDriver(count = 0):\n",
    "    try:\n",
    "        driver = webdriver.Chrome()\n",
    "        driver.delete_all_cookies()\n",
    "        driver.set_window_size(\"1920\",\"1080\")\n",
    "        return driver\n",
    "    except:\n",
    "        if count < 10:\n",
    "            count = count + 1\n",
    "            time.sleep(3)\n",
    "            return initializeDriver(count = count)\n",
    "        else:\n",
    "            return None"
   ]
  },
  {
   "cell_type": "code",
   "execution_count": null,
   "metadata": {
    "collapsed": true
   },
   "outputs": [],
   "source": [
    "# Need this for headless browsing\n",
    "display = Display(visible=0, size=(1920, 1080)) \n",
    "display.start()\n",
    "\n",
    "# Initialize driver\n",
    "initializeDriver()\n",
    "\n",
    "# Provide the starting page:\n",
    "url = 'https://www.southwest.com/flight/retrieveCheckinDoc.html'\n",
    "\n",
    "# Fill in credentials\n",
    "# 'conf': 5 digit confirmation code\n",
    "# 'fn': first name\n",
    "# 'ln':last name\n",
    "# 'flight_time': planned flight departure in YYYY-MM-DD HH:MM AM/PM format\n",
    "# 'flight_tz': planned flight departure time zone (eg US/Eastern)\n",
    "# 'email': email address to send boarding pass to\n",
    "# Example:\n",
    "# creds = {'conf':'12Q3WE', 'fn':'John','ln':'Smith', 'flight_time':'2017-08-25 06:15AM', 'flight_tz':'US/Eastern', 'email':'jsmith@sw.com'}\n",
    "\n",
    "creds = {'conf':'', 'fn':'','ln':'', 'flight_time':'', 'flight_tz':'', 'email':''}"
   ]
  },
  {
   "cell_type": "code",
   "execution_count": null,
   "metadata": {
    "collapsed": true
   },
   "outputs": [],
   "source": [
    "# Method to combat any issues with driver timeoutes\n",
    "try:driver.get(url)\n",
    "except:\n",
    "    driver = initializeDriver()\n",
    "    driver.get(url)\n",
    "\n",
    "time.sleep(1)"
   ]
  },
  {
   "cell_type": "code",
   "execution_count": null,
   "metadata": {
    "collapsed": true
   },
   "outputs": [],
   "source": [
    "# Enters information in\n",
    "confirmation_num = driver.find_element_by_id(\"confirmationNumber\")\n",
    "first_name = driver.find_element_by_id(\"firstName\")\n",
    "last_name = driver.find_element_by_id(\"lastName\")\n",
    "\n",
    "confirmation_num.send_keys(creds['conf'])\n",
    "first_name.send_keys(creds['fn'])\n",
    "last_name.send_keys(creds['ln'])"
   ]
  },
  {
   "cell_type": "code",
   "execution_count": null,
   "metadata": {
    "collapsed": true
   },
   "outputs": [],
   "source": [
    "# Calculates the times necessary to determine when to check-in\n",
    "current_time = arrow.now(creds['flight_tz'])\n",
    "flight_time = arrow.get(creds['flight_time']).to(creds['flight_tz'])\n",
    "deadline = flight_time.shift(days=-1)\n",
    "deadline_minus_6s = deadline.shift(seconds=-6)"
   ]
  },
  {
   "cell_type": "code",
   "execution_count": null,
   "metadata": {
    "collapsed": true
   },
   "outputs": [],
   "source": [
    "# Checks every 5 seconds whether the current time is within 6 seconds of the deadline\n",
    "# This reduces load on the kernal\n",
    "while deadline_minus_6s > current_time:\n",
    "    sys.stdout.write(\"Waiting for checkin time {0}\\r\".format(deadline.humanize()))\n",
    "    sys.stdout.flush()\n",
    "    sleep(5)\n",
    "    current_time = arrow.now(creds['flight_tz'])\n",
    "    \n",
    "# Starts checking every cycle whether the current time has elapsed the deadline\n",
    "while deadline > current_time:\n",
    "    current_time  = arrow.now(creds['flight_tz'])"
   ]
  },
  {
   "cell_type": "code",
   "execution_count": null,
   "metadata": {
    "collapsed": true
   },
   "outputs": [],
   "source": [
    "# Check in\n",
    "driver.find_element_by_id(\"submitButton\").click()"
   ]
  },
  {
   "cell_type": "code",
   "execution_count": null,
   "metadata": {
    "collapsed": true
   },
   "outputs": [],
   "source": [
    "# This re-tries the submit if the script clicked submit too early\n",
    "oops = driver.find_element_by_class_name(\"oopsError_message\")\n",
    "while oops.is_displayed():\n",
    "    submit = driver.find_element_by_id(\"submitButton\")\n",
    "    while not submit.is_displayed():\n",
    "        print \"error displayed\"\n",
    "    submit.click()\n",
    "    oops = driver.find_element_by_class_name(\"oopsError_message\")"
   ]
  },
  {
   "cell_type": "code",
   "execution_count": null,
   "metadata": {
    "collapsed": true
   },
   "outputs": [],
   "source": [
    "# Once checked in, click the second confirm button to get the actual boarding number and option to email boarding pass\n",
    "printDocs = driver.find_element_by_id('printDocumentsButton')\n",
    "while not printDocs.is_displayed():\n",
    "    print\n",
    "printDocs.click()"
   ]
  },
  {
   "cell_type": "code",
   "execution_count": null,
   "metadata": {},
   "outputs": [],
   "source": [
    "# Determines boarding position\n",
    "soup = BeautifulSoup(driver.page_source, 'lxml')\n",
    "subset = soup.find_all(class_='boardingInfo')\n",
    "bp = ''\n",
    "\n",
    "for x in subset:\n",
    "    bp = bp + x.text\n",
    "\n",
    "print bp"
   ]
  },
  {
   "cell_type": "code",
   "execution_count": null,
   "metadata": {
    "collapsed": true
   },
   "outputs": [],
   "source": [
    "# Emails boarding pass\n",
    "driver.find_element_by_id(\"optionEmail\").click()\n",
    "email_box = driver.find_element_by_id(\"emailAddress\")\n",
    "email_box.send_keys(creds['email'])\n",
    "driver.find_element_by_id(\"checkin_button\").click()"
   ]
  }
 ],
 "metadata": {
  "kernelspec": {
   "display_name": "Python 2",
   "language": "python",
   "name": "python2"
  },
  "language_info": {
   "codemirror_mode": {
    "name": "ipython",
    "version": 2
   },
   "file_extension": ".py",
   "mimetype": "text/x-python",
   "name": "python",
   "nbconvert_exporter": "python",
   "pygments_lexer": "ipython2",
   "version": "2.7.12"
  }
 },
 "nbformat": 4,
 "nbformat_minor": 2
}
